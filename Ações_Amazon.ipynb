{
 "cells": [
  {
   "cell_type": "code",
   "execution_count": 1,
   "metadata": {},
   "outputs": [
    {
     "name": "stdout",
     "output_type": "stream",
     "text": [
      "Requirement already satisfied: matplotlib in c:\\users\\ademilsonmiguel\\appdata\\local\\programs\\python\\python39\\lib\\site-packages (3.4.2)\n",
      "Requirement already satisfied: kiwisolver>=1.0.1 in c:\\users\\ademilsonmiguel\\appdata\\local\\programs\\python\\python39\\lib\\site-packages (from matplotlib) (1.3.1)\n",
      "Requirement already satisfied: pillow>=6.2.0 in c:\\users\\ademilsonmiguel\\appdata\\local\\programs\\python\\python39\\lib\\site-packages (from matplotlib) (9.2.0)\n",
      "Requirement already satisfied: python-dateutil>=2.7 in c:\\users\\ademilsonmiguel\\appdata\\roaming\\python\\python39\\site-packages (from matplotlib) (2.8.2)\n",
      "Requirement already satisfied: pyparsing>=2.2.1 in c:\\users\\ademilsonmiguel\\appdata\\local\\programs\\python\\python39\\lib\\site-packages (from matplotlib) (2.4.7)\n",
      "Requirement already satisfied: numpy>=1.16 in c:\\users\\ademilsonmiguel\\appdata\\local\\programs\\python\\python39\\lib\\site-packages (from matplotlib) (1.19.5)\n",
      "Requirement already satisfied: cycler>=0.10 in c:\\users\\ademilsonmiguel\\appdata\\local\\programs\\python\\python39\\lib\\site-packages (from matplotlib) (0.10.0)\n",
      "Requirement already satisfied: six in c:\\users\\ademilsonmiguel\\appdata\\roaming\\python\\python39\\site-packages (from cycler>=0.10->matplotlib) (1.16.0)\n",
      "Requirement already satisfied: pandas_datareader in c:\\users\\ademilsonmiguel\\appdata\\local\\programs\\python\\python39\\lib\\site-packages (0.10.0)\n",
      "Requirement already satisfied: requests>=2.19.0 in c:\\users\\ademilsonmiguel\\appdata\\local\\programs\\python\\python39\\lib\\site-packages (from pandas_datareader) (2.26.0)\n",
      "Requirement already satisfied: lxml in c:\\users\\ademilsonmiguel\\appdata\\local\\programs\\python\\python39\\lib\\site-packages (from pandas_datareader) (4.6.3)\n",
      "Requirement already satisfied: pandas>=0.23 in c:\\users\\ademilsonmiguel\\appdata\\local\\programs\\python\\python39\\lib\\site-packages (from pandas_datareader) (1.3.0)\n",
      "Requirement already satisfied: python-dateutil>=2.7.3 in c:\\users\\ademilsonmiguel\\appdata\\roaming\\python\\python39\\site-packages (from pandas>=0.23->pandas_datareader) (2.8.2)\n",
      "Requirement already satisfied: numpy>=1.17.3 in c:\\users\\ademilsonmiguel\\appdata\\local\\programs\\python\\python39\\lib\\site-packages (from pandas>=0.23->pandas_datareader) (1.19.5)\n",
      "Requirement already satisfied: pytz>=2017.3 in c:\\users\\ademilsonmiguel\\appdata\\local\\programs\\python\\python39\\lib\\site-packages (from pandas>=0.23->pandas_datareader) (2021.1)\n",
      "Requirement already satisfied: charset-normalizer~=2.0.0 in c:\\users\\ademilsonmiguel\\appdata\\local\\programs\\python\\python39\\lib\\site-packages (from requests>=2.19.0->pandas_datareader) (2.0.3)\n",
      "Requirement already satisfied: certifi>=2017.4.17 in c:\\users\\ademilsonmiguel\\appdata\\local\\programs\\python\\python39\\lib\\site-packages (from requests>=2.19.0->pandas_datareader) (2021.5.30)\n",
      "Requirement already satisfied: urllib3<1.27,>=1.21.1 in c:\\users\\ademilsonmiguel\\appdata\\local\\programs\\python\\python39\\lib\\site-packages (from requests>=2.19.0->pandas_datareader) (1.25.11)\n",
      "Requirement already satisfied: idna<4,>=2.5 in c:\\users\\ademilsonmiguel\\appdata\\local\\programs\\python\\python39\\lib\\site-packages (from requests>=2.19.0->pandas_datareader) (3.2)\n",
      "Requirement already satisfied: six>=1.5 in c:\\users\\ademilsonmiguel\\appdata\\roaming\\python\\python39\\site-packages (from python-dateutil>=2.7.3->pandas>=0.23->pandas_datareader) (1.16.0)\n"
     ]
    }
   ],
   "source": [
    "import pandas as pd\n",
    "import numpy as np\n",
    "!pip install matplotlib\n",
    "import matplotlib.pyplot as plt\n",
    "!pip install pandas_datareader\n",
    "import pandas_datareader.data as web"
   ]
  },
  {
   "cell_type": "code",
   "execution_count": 2,
   "metadata": {},
   "outputs": [
    {
     "name": "stdout",
     "output_type": "stream",
     "text": [
      "Requirement already satisfied: yfinance in c:\\users\\ademilsonmiguel\\appdata\\local\\programs\\python\\python39\\lib\\site-packages (0.1.69)\n",
      "Requirement already satisfied: multitasking>=0.0.7 in c:\\users\\ademilsonmiguel\\appdata\\local\\programs\\python\\python39\\lib\\site-packages (from yfinance) (0.0.10)\n",
      "Requirement already satisfied: pandas>=0.24 in c:\\users\\ademilsonmiguel\\appdata\\local\\programs\\python\\python39\\lib\\site-packages (from yfinance) (1.3.0)\n",
      "Requirement already satisfied: lxml>=4.5.1 in c:\\users\\ademilsonmiguel\\appdata\\local\\programs\\python\\python39\\lib\\site-packages (from yfinance) (4.6.3)\n",
      "Requirement already satisfied: numpy>=1.15 in c:\\users\\ademilsonmiguel\\appdata\\local\\programs\\python\\python39\\lib\\site-packages (from yfinance) (1.19.5)\n",
      "Requirement already satisfied: requests>=2.26 in c:\\users\\ademilsonmiguel\\appdata\\local\\programs\\python\\python39\\lib\\site-packages (from yfinance) (2.26.0)\n",
      "Requirement already satisfied: pytz>=2017.3 in c:\\users\\ademilsonmiguel\\appdata\\local\\programs\\python\\python39\\lib\\site-packages (from pandas>=0.24->yfinance) (2021.1)\n",
      "Requirement already satisfied: python-dateutil>=2.7.3 in c:\\users\\ademilsonmiguel\\appdata\\roaming\\python\\python39\\site-packages (from pandas>=0.24->yfinance) (2.8.2)\n",
      "Requirement already satisfied: urllib3<1.27,>=1.21.1 in c:\\users\\ademilsonmiguel\\appdata\\local\\programs\\python\\python39\\lib\\site-packages (from requests>=2.26->yfinance) (1.25.11)\n",
      "Requirement already satisfied: charset-normalizer~=2.0.0 in c:\\users\\ademilsonmiguel\\appdata\\local\\programs\\python\\python39\\lib\\site-packages (from requests>=2.26->yfinance) (2.0.3)\n",
      "Requirement already satisfied: idna<4,>=2.5 in c:\\users\\ademilsonmiguel\\appdata\\local\\programs\\python\\python39\\lib\\site-packages (from requests>=2.26->yfinance) (3.2)\n",
      "Requirement already satisfied: certifi>=2017.4.17 in c:\\users\\ademilsonmiguel\\appdata\\local\\programs\\python\\python39\\lib\\site-packages (from requests>=2.26->yfinance) (2021.5.30)\n",
      "Requirement already satisfied: six>=1.5 in c:\\users\\ademilsonmiguel\\appdata\\roaming\\python\\python39\\site-packages (from python-dateutil>=2.7.3->pandas>=0.24->yfinance) (1.16.0)\n"
     ]
    }
   ],
   "source": [
    "!pip install yfinance\n",
    "import yfinance as yf\n",
    "yf.pdr_override() "
   ]
  },
  {
   "cell_type": "code",
   "execution_count": 3,
   "metadata": {},
   "outputs": [
    {
     "name": "stdout",
     "output_type": "stream",
     "text": [
      "[*********************100%***********************]  1 of 1 completed\n"
     ]
    },
    {
     "data": {
      "text/html": [
       "<div><div id=ab0aa572-00fa-4e75-8d16-f090922c0b6d style=\"display:none; background-color:#9D6CFF; color:white; width:200px; height:30px; padding-left:5px; border-radius:4px; flex-direction:row; justify-content:space-around; align-items:center;\" onmouseover=\"this.style.backgroundColor='#BA9BF8'\" onmouseout=\"this.style.backgroundColor='#9D6CFF'\" onclick=\"window.commands?.execute('create-mitosheet-from-dataframe-output');\">See Full Dataframe in Mito</div> <script> if (window.commands?.hasCommand('create-mitosheet-from-dataframe-output')) document.getElementById('ab0aa572-00fa-4e75-8d16-f090922c0b6d').style.display = 'flex' </script> <table border=\"1\" class=\"dataframe\">\n",
       "  <thead>\n",
       "    <tr style=\"text-align: right;\">\n",
       "      <th></th>\n",
       "      <th>Open</th>\n",
       "      <th>High</th>\n",
       "      <th>Low</th>\n",
       "      <th>Close</th>\n",
       "      <th>Adj Close</th>\n",
       "      <th>Volume</th>\n",
       "    </tr>\n",
       "    <tr>\n",
       "      <th>Date</th>\n",
       "      <th></th>\n",
       "      <th></th>\n",
       "      <th></th>\n",
       "      <th></th>\n",
       "      <th></th>\n",
       "      <th></th>\n",
       "    </tr>\n",
       "  </thead>\n",
       "  <tbody>\n",
       "    <tr>\n",
       "      <th>1993-04-27</th>\n",
       "      <td>24.799999</td>\n",
       "      <td>25.400000</td>\n",
       "      <td>24.500000</td>\n",
       "      <td>24.500000</td>\n",
       "      <td>24.500000</td>\n",
       "      <td>0</td>\n",
       "    </tr>\n",
       "    <tr>\n",
       "      <th>1993-04-28</th>\n",
       "      <td>24.500000</td>\n",
       "      <td>24.600000</td>\n",
       "      <td>23.700001</td>\n",
       "      <td>24.299999</td>\n",
       "      <td>24.299999</td>\n",
       "      <td>0</td>\n",
       "    </tr>\n",
       "    <tr>\n",
       "      <th>1993-04-29</th>\n",
       "      <td>24.299999</td>\n",
       "      <td>24.799999</td>\n",
       "      <td>23.700001</td>\n",
       "      <td>23.700001</td>\n",
       "      <td>23.700001</td>\n",
       "      <td>0</td>\n",
       "    </tr>\n",
       "    <tr>\n",
       "      <th>1993-04-30</th>\n",
       "      <td>23.700001</td>\n",
       "      <td>24.200001</td>\n",
       "      <td>23.700001</td>\n",
       "      <td>24.100000</td>\n",
       "      <td>24.100000</td>\n",
       "      <td>0</td>\n",
       "    </tr>\n",
       "    <tr>\n",
       "      <th>1993-05-03</th>\n",
       "      <td>24.100000</td>\n",
       "      <td>24.400000</td>\n",
       "      <td>23.799999</td>\n",
       "      <td>24.100000</td>\n",
       "      <td>24.100000</td>\n",
       "      <td>0</td>\n",
       "    </tr>\n",
       "    <tr>\n",
       "      <th>...</th>\n",
       "      <td>...</td>\n",
       "      <td>...</td>\n",
       "      <td>...</td>\n",
       "      <td>...</td>\n",
       "      <td>...</td>\n",
       "      <td>...</td>\n",
       "    </tr>\n",
       "    <tr>\n",
       "      <th>2022-07-06</th>\n",
       "      <td>98294.000000</td>\n",
       "      <td>99141.000000</td>\n",
       "      <td>97423.000000</td>\n",
       "      <td>98719.000000</td>\n",
       "      <td>98719.000000</td>\n",
       "      <td>13348200</td>\n",
       "    </tr>\n",
       "    <tr>\n",
       "      <th>2022-07-07</th>\n",
       "      <td>98722.000000</td>\n",
       "      <td>101420.000000</td>\n",
       "      <td>98722.000000</td>\n",
       "      <td>100730.000000</td>\n",
       "      <td>100730.000000</td>\n",
       "      <td>12696300</td>\n",
       "    </tr>\n",
       "    <tr>\n",
       "      <th>2022-07-08</th>\n",
       "      <td>100732.000000</td>\n",
       "      <td>101577.000000</td>\n",
       "      <td>99958.000000</td>\n",
       "      <td>100289.000000</td>\n",
       "      <td>100289.000000</td>\n",
       "      <td>9730400</td>\n",
       "    </tr>\n",
       "    <tr>\n",
       "      <th>2022-07-11</th>\n",
       "      <td>100282.000000</td>\n",
       "      <td>100282.000000</td>\n",
       "      <td>97854.000000</td>\n",
       "      <td>98212.000000</td>\n",
       "      <td>98212.000000</td>\n",
       "      <td>8893400</td>\n",
       "    </tr>\n",
       "    <tr>\n",
       "      <th>2022-07-12</th>\n",
       "      <td>98212.460938</td>\n",
       "      <td>98736.562500</td>\n",
       "      <td>97253.187500</td>\n",
       "      <td>98271.210938</td>\n",
       "      <td>98271.210938</td>\n",
       "      <td>0</td>\n",
       "    </tr>\n",
       "  </tbody>\n",
       "</table></div>"
      ],
      "text/plain": [
       "                     Open           High           Low          Close  \\\n",
       "Date                                                                    \n",
       "1993-04-27      24.799999      25.400000     24.500000      24.500000   \n",
       "1993-04-28      24.500000      24.600000     23.700001      24.299999   \n",
       "1993-04-29      24.299999      24.799999     23.700001      23.700001   \n",
       "1993-04-30      23.700001      24.200001     23.700001      24.100000   \n",
       "1993-05-03      24.100000      24.400000     23.799999      24.100000   \n",
       "...                   ...            ...           ...            ...   \n",
       "2022-07-06   98294.000000   99141.000000  97423.000000   98719.000000   \n",
       "2022-07-07   98722.000000  101420.000000  98722.000000  100730.000000   \n",
       "2022-07-08  100732.000000  101577.000000  99958.000000  100289.000000   \n",
       "2022-07-11  100282.000000  100282.000000  97854.000000   98212.000000   \n",
       "2022-07-12   98212.460938   98736.562500  97253.187500   98271.210938   \n",
       "\n",
       "                Adj Close    Volume  \n",
       "Date                                 \n",
       "1993-04-27      24.500000         0  \n",
       "1993-04-28      24.299999         0  \n",
       "1993-04-29      23.700001         0  \n",
       "1993-04-30      24.100000         0  \n",
       "1993-05-03      24.100000         0  \n",
       "...                   ...       ...  \n",
       "2022-07-06   98719.000000  13348200  \n",
       "2022-07-07  100730.000000  12696300  \n",
       "2022-07-08  100289.000000   9730400  \n",
       "2022-07-11   98212.000000   8893400  \n",
       "2022-07-12   98271.210938         0  \n",
       "\n",
       "[7227 rows x 6 columns]"
      ]
     },
     "execution_count": 3,
     "metadata": {},
     "output_type": "execute_result"
    }
   ],
   "source": [
    "ibov = web.get_data_yahoo('^BVSP')\n",
    "ibov"
   ]
  },
  {
   "cell_type": "code",
   "execution_count": 4,
   "metadata": {},
   "outputs": [
    {
     "data": {
      "text/plain": [
       "<AxesSubplot:xlabel='Date'>"
      ]
     },
     "execution_count": 4,
     "metadata": {},
     "output_type": "execute_result"
    },
    {
     "data": {
      "image/png": "[encoded data removed]",
      "text/plain": [
       "<Figure size 432x288 with 1 Axes>"
      ]
     },
     "metadata": {
      "needs_background": "light"
     },
     "output_type": "display_data"
    }
   ],
   "source": [
    "ibov['Close'].plot()"
   ]
  },
  {
   "cell_type": "code",
   "execution_count": 6,
   "metadata": {},
   "outputs": [
    {
     "name": "stdout",
     "output_type": "stream",
     "text": [
      "[*********************100%***********************]  1 of 1 completed\n"
     ]
    },
    {
     "data": {
      "text/plain": [
       "<AxesSubplot:xlabel='Date'>"
      ]
     },
     "execution_count": 6,
     "metadata": {},
     "output_type": "execute_result"
    },
    {
     "data": {
      "image/png": "[encoded data removed]",
      "text/plain": [
       "<Figure size 432x288 with 1 Axes>"
      ]
     },
     "metadata": {
      "needs_background": "light"
     },
     "output_type": "display_data"
    }
   ],
   "source": [
    "# Alterar a ação a verificar\n",
    "AMZ = web.get_data_yahoo('AMZO34.SA')\n",
    "AMZ['Close'].plot()"
   ]
  },
  {
   "cell_type": "code",
   "execution_count": 7,
   "metadata": {},
   "outputs": [
    {
     "data": {
      "text/html": [
       "<div><div id=6202ec61-ec6e-41e7-81a1-2452d38c5e5c style=\"display:none; background-color:#9D6CFF; color:white; width:200px; height:30px; padding-left:5px; border-radius:4px; flex-direction:row; justify-content:space-around; align-items:center;\" onmouseover=\"this.style.backgroundColor='#BA9BF8'\" onmouseout=\"this.style.backgroundColor='#9D6CFF'\" onclick=\"window.commands?.execute('create-mitosheet-from-dataframe-output');\">See Full Dataframe in Mito</div> <script> if (window.commands?.hasCommand('create-mitosheet-from-dataframe-output')) document.getElementById('6202ec61-ec6e-41e7-81a1-2452d38c5e5c').style.display = 'flex' </script> <table border=\"1\" class=\"dataframe\">\n",
       "  <thead>\n",
       "    <tr style=\"text-align: right;\">\n",
       "      <th></th>\n",
       "      <th>Open</th>\n",
       "      <th>High</th>\n",
       "      <th>Low</th>\n",
       "      <th>Close</th>\n",
       "      <th>Adj Close</th>\n",
       "      <th>Volume</th>\n",
       "    </tr>\n",
       "    <tr>\n",
       "      <th>Date</th>\n",
       "      <th></th>\n",
       "      <th></th>\n",
       "      <th></th>\n",
       "      <th></th>\n",
       "      <th></th>\n",
       "      <th></th>\n",
       "    </tr>\n",
       "  </thead>\n",
       "  <tbody>\n",
       "    <tr>\n",
       "      <th>2012-02-29</th>\n",
       "      <td>0.102070</td>\n",
       "      <td>0.102070</td>\n",
       "      <td>0.102070</td>\n",
       "      <td>0.102070</td>\n",
       "      <td>0.102070</td>\n",
       "      <td>628000</td>\n",
       "    </tr>\n",
       "    <tr>\n",
       "      <th>2012-03-31</th>\n",
       "      <td>0.117050</td>\n",
       "      <td>0.117050</td>\n",
       "      <td>0.117050</td>\n",
       "      <td>0.117050</td>\n",
       "      <td>0.117050</td>\n",
       "      <td>21980000</td>\n",
       "    </tr>\n",
       "    <tr>\n",
       "      <th>2012-04-30</th>\n",
       "      <td>0.136121</td>\n",
       "      <td>0.136121</td>\n",
       "      <td>0.136121</td>\n",
       "      <td>0.136121</td>\n",
       "      <td>0.136121</td>\n",
       "      <td>5338000</td>\n",
       "    </tr>\n",
       "    <tr>\n",
       "      <th>2012-05-31</th>\n",
       "      <td>0.143050</td>\n",
       "      <td>0.143050</td>\n",
       "      <td>0.143050</td>\n",
       "      <td>0.143050</td>\n",
       "      <td>0.143050</td>\n",
       "      <td>314000</td>\n",
       "    </tr>\n",
       "    <tr>\n",
       "      <th>2012-06-30</th>\n",
       "      <td>0.149076</td>\n",
       "      <td>0.149076</td>\n",
       "      <td>0.149076</td>\n",
       "      <td>0.149076</td>\n",
       "      <td>0.149076</td>\n",
       "      <td>314000</td>\n",
       "    </tr>\n",
       "    <tr>\n",
       "      <th>...</th>\n",
       "      <td>...</td>\n",
       "      <td>...</td>\n",
       "      <td>...</td>\n",
       "      <td>...</td>\n",
       "      <td>...</td>\n",
       "      <td>...</td>\n",
       "    </tr>\n",
       "    <tr>\n",
       "      <th>2022-03-31</th>\n",
       "      <td>5.153000</td>\n",
       "      <td>5.234500</td>\n",
       "      <td>5.072000</td>\n",
       "      <td>5.155000</td>\n",
       "      <td>5.155000</td>\n",
       "      <td>9021680</td>\n",
       "    </tr>\n",
       "    <tr>\n",
       "      <th>2022-04-30</th>\n",
       "      <td>4.939000</td>\n",
       "      <td>4.968000</td>\n",
       "      <td>4.842500</td>\n",
       "      <td>4.924000</td>\n",
       "      <td>4.924000</td>\n",
       "      <td>26731720</td>\n",
       "    </tr>\n",
       "    <tr>\n",
       "      <th>2022-05-31</th>\n",
       "      <td>4.001000</td>\n",
       "      <td>4.032000</td>\n",
       "      <td>3.890000</td>\n",
       "      <td>4.001000</td>\n",
       "      <td>4.001000</td>\n",
       "      <td>11582500</td>\n",
       "    </tr>\n",
       "    <tr>\n",
       "      <th>2022-06-30</th>\n",
       "      <td>3.950000</td>\n",
       "      <td>3.950000</td>\n",
       "      <td>3.760000</td>\n",
       "      <td>3.880000</td>\n",
       "      <td>3.880000</td>\n",
       "      <td>7286142</td>\n",
       "    </tr>\n",
       "    <tr>\n",
       "      <th>2022-07-31</th>\n",
       "      <td>3.990000</td>\n",
       "      <td>3.990000</td>\n",
       "      <td>3.870000</td>\n",
       "      <td>3.970000</td>\n",
       "      <td>3.970000</td>\n",
       "      <td>8710991</td>\n",
       "    </tr>\n",
       "  </tbody>\n",
       "</table></div>"
      ],
      "text/plain": [
       "                Open      High       Low     Close  Adj Close    Volume\n",
       "Date                                                                   \n",
       "2012-02-29  0.102070  0.102070  0.102070  0.102070   0.102070    628000\n",
       "2012-03-31  0.117050  0.117050  0.117050  0.117050   0.117050  21980000\n",
       "2012-04-30  0.136121  0.136121  0.136121  0.136121   0.136121   5338000\n",
       "2012-05-31  0.143050  0.143050  0.143050  0.143050   0.143050    314000\n",
       "2012-06-30  0.149076  0.149076  0.149076  0.149076   0.149076    314000\n",
       "...              ...       ...       ...       ...        ...       ...\n",
       "2022-03-31  5.153000  5.234500  5.072000  5.155000   5.155000   9021680\n",
       "2022-04-30  4.939000  4.968000  4.842500  4.924000   4.924000  26731720\n",
       "2022-05-31  4.001000  4.032000  3.890000  4.001000   4.001000  11582500\n",
       "2022-06-30  3.950000  3.950000  3.760000  3.880000   3.880000   7286142\n",
       "2022-07-31  3.990000  3.990000  3.870000  3.970000   3.970000   8710991\n",
       "\n",
       "[126 rows x 6 columns]"
      ]
     },
     "execution_count": 7,
     "metadata": {},
     "output_type": "execute_result"
    }
   ],
   "source": [
    "# Valores maximos por mes\n",
    "AMZm =AMZ.resample('M').max()\n",
    "AMZm"
   ]
  },
  {
   "cell_type": "code",
   "execution_count": 8,
   "metadata": {},
   "outputs": [
    {
     "data": {
      "text/plain": [
       "<AxesSubplot:xlabel='Date'>"
      ]
     },
     "execution_count": 8,
     "metadata": {},
     "output_type": "execute_result"
    },
    {
     "data": {
      "image/png": "[encoded data removed]",
      "text/plain": [
       "<Figure size 432x288 with 1 Axes>"
      ]
     },
     "metadata": {
      "needs_background": "light"
     },
     "output_type": "display_data"
    }
   ],
   "source": [
    "AMZm['Close'].plot()"
   ]
  },
  {
   "cell_type": "code",
   "execution_count": 9,
   "metadata": {},
   "outputs": [
    {
     "data": {
      "text/html": [
       "<div><div id=ed775993-3950-4ce9-91dc-dfd6544d7cfd style=\"display:none; background-color:#9D6CFF; color:white; width:200px; height:30px; padding-left:5px; border-radius:4px; flex-direction:row; justify-content:space-around; align-items:center;\" onmouseover=\"this.style.backgroundColor='#BA9BF8'\" onmouseout=\"this.style.backgroundColor='#9D6CFF'\" onclick=\"window.commands?.execute('create-mitosheet-from-dataframe-output');\">See Full Dataframe in Mito</div> <script> if (window.commands?.hasCommand('create-mitosheet-from-dataframe-output')) document.getElementById('ed775993-3950-4ce9-91dc-dfd6544d7cfd').style.display = 'flex' </script> <table border=\"1\" class=\"dataframe\">\n",
       "  <thead>\n",
       "    <tr style=\"text-align: right;\">\n",
       "      <th></th>\n",
       "      <th>Open</th>\n",
       "      <th>High</th>\n",
       "      <th>Low</th>\n",
       "      <th>Close</th>\n",
       "      <th>Adj Close</th>\n",
       "      <th>Volume</th>\n",
       "    </tr>\n",
       "    <tr>\n",
       "      <th>Date</th>\n",
       "      <th></th>\n",
       "      <th></th>\n",
       "      <th></th>\n",
       "      <th></th>\n",
       "      <th></th>\n",
       "      <th></th>\n",
       "    </tr>\n",
       "  </thead>\n",
       "  <tbody>\n",
       "    <tr>\n",
       "      <th>2012-02-29</th>\n",
       "      <td>1.810865</td>\n",
       "      <td>1.810868</td>\n",
       "      <td>1.809304</td>\n",
       "      <td>1.809307</td>\n",
       "      <td>1.809307</td>\n",
       "      <td>1884000</td>\n",
       "    </tr>\n",
       "    <tr>\n",
       "      <th>2012-03-31</th>\n",
       "      <td>2.352439</td>\n",
       "      <td>2.352439</td>\n",
       "      <td>2.352439</td>\n",
       "      <td>2.352439</td>\n",
       "      <td>2.352439</td>\n",
       "      <td>28260000</td>\n",
       "    </tr>\n",
       "    <tr>\n",
       "      <th>2012-04-30</th>\n",
       "      <td>2.324501</td>\n",
       "      <td>2.324501</td>\n",
       "      <td>2.324501</td>\n",
       "      <td>2.324501</td>\n",
       "      <td>2.324501</td>\n",
       "      <td>7222000</td>\n",
       "    </tr>\n",
       "    <tr>\n",
       "      <th>2012-05-31</th>\n",
       "      <td>3.069235</td>\n",
       "      <td>3.069235</td>\n",
       "      <td>3.069235</td>\n",
       "      <td>3.069235</td>\n",
       "      <td>3.069235</td>\n",
       "      <td>2512000</td>\n",
       "    </tr>\n",
       "    <tr>\n",
       "      <th>2012-06-30</th>\n",
       "      <td>2.870757</td>\n",
       "      <td>2.870757</td>\n",
       "      <td>2.870757</td>\n",
       "      <td>2.870757</td>\n",
       "      <td>2.870757</td>\n",
       "      <td>2198000</td>\n",
       "    </tr>\n",
       "    <tr>\n",
       "      <th>...</th>\n",
       "      <td>...</td>\n",
       "      <td>...</td>\n",
       "      <td>...</td>\n",
       "      <td>...</td>\n",
       "      <td>...</td>\n",
       "      <td>...</td>\n",
       "    </tr>\n",
       "    <tr>\n",
       "      <th>2022-03-31</th>\n",
       "      <td>107.504000</td>\n",
       "      <td>108.880000</td>\n",
       "      <td>105.755000</td>\n",
       "      <td>107.076501</td>\n",
       "      <td>107.076501</td>\n",
       "      <td>72925820</td>\n",
       "    </tr>\n",
       "    <tr>\n",
       "      <th>2022-04-30</th>\n",
       "      <td>87.516000</td>\n",
       "      <td>88.688499</td>\n",
       "      <td>85.599000</td>\n",
       "      <td>86.591000</td>\n",
       "      <td>86.591000</td>\n",
       "      <td>85918820</td>\n",
       "    </tr>\n",
       "    <tr>\n",
       "      <th>2022-05-31</th>\n",
       "      <td>78.358500</td>\n",
       "      <td>79.780500</td>\n",
       "      <td>76.468501</td>\n",
       "      <td>78.072500</td>\n",
       "      <td>78.072500</td>\n",
       "      <td>116287768</td>\n",
       "    </tr>\n",
       "    <tr>\n",
       "      <th>2022-06-30</th>\n",
       "      <td>76.300000</td>\n",
       "      <td>77.980000</td>\n",
       "      <td>74.720000</td>\n",
       "      <td>75.970000</td>\n",
       "      <td>75.970000</td>\n",
       "      <td>62087345</td>\n",
       "    </tr>\n",
       "    <tr>\n",
       "      <th>2022-07-31</th>\n",
       "      <td>30.510000</td>\n",
       "      <td>31.160000</td>\n",
       "      <td>29.850000</td>\n",
       "      <td>30.460000</td>\n",
       "      <td>30.460000</td>\n",
       "      <td>22947670</td>\n",
       "    </tr>\n",
       "  </tbody>\n",
       "</table></div>"
      ],
      "text/plain": [
       "                  Open        High         Low       Close   Adj Close  \\\n",
       "Date                                                                     \n",
       "2012-02-29    1.810865    1.810868    1.809304    1.809307    1.809307   \n",
       "2012-03-31    2.352439    2.352439    2.352439    2.352439    2.352439   \n",
       "2012-04-30    2.324501    2.324501    2.324501    2.324501    2.324501   \n",
       "2012-05-31    3.069235    3.069235    3.069235    3.069235    3.069235   \n",
       "2012-06-30    2.870757    2.870757    2.870757    2.870757    2.870757   \n",
       "...                ...         ...         ...         ...         ...   \n",
       "2022-03-31  107.504000  108.880000  105.755000  107.076501  107.076501   \n",
       "2022-04-30   87.516000   88.688499   85.599000   86.591000   86.591000   \n",
       "2022-05-31   78.358500   79.780500   76.468501   78.072500   78.072500   \n",
       "2022-06-30   76.300000   77.980000   74.720000   75.970000   75.970000   \n",
       "2022-07-31   30.510000   31.160000   29.850000   30.460000   30.460000   \n",
       "\n",
       "               Volume  \n",
       "Date                   \n",
       "2012-02-29    1884000  \n",
       "2012-03-31   28260000  \n",
       "2012-04-30    7222000  \n",
       "2012-05-31    2512000  \n",
       "2012-06-30    2198000  \n",
       "...               ...  \n",
       "2022-03-31   72925820  \n",
       "2022-04-30   85918820  \n",
       "2022-05-31  116287768  \n",
       "2022-06-30   62087345  \n",
       "2022-07-31   22947670  \n",
       "\n",
       "[126 rows x 6 columns]"
      ]
     },
     "execution_count": 9,
     "metadata": {},
     "output_type": "execute_result"
    }
   ],
   "source": [
    "AMZs = AMZ.resample('M').sum()\n",
    "AMZs"
   ]
  },
  {
   "cell_type": "code",
   "execution_count": 10,
   "metadata": {},
   "outputs": [
    {
     "data": {
      "text/plain": [
       "<AxesSubplot:xlabel='Date'>"
      ]
     },
     "execution_count": 10,
     "metadata": {},
     "output_type": "execute_result"
    },
    {
     "data": {
      "image/png": "[encoded data removed]",
      "text/plain": [
       "<Figure size 432x288 with 1 Axes>"
      ]
     },
     "metadata": {
      "needs_background": "light"
     },
     "output_type": "display_data"
    }
   ],
   "source": [
    "AMZs['High'].plot()"
   ]
  }
 ],
 "metadata": {
  "kernelspec": {
   "display_name": "Python 3.9.6 64-bit",
   "language": "python",
   "name": "python3"
  },
  "language_info": {
   "codemirror_mode": {
    "name": "ipython",
    "version": 3
   },
   "file_extension": ".py",
   "mimetype": "text/x-python",
   "name": "python",
   "nbconvert_exporter": "python",
   "pygments_lexer": "ipython3",
   "version": "3.9.6"
  },
  "orig_nbformat": 4,
  "vscode": {
   "interpreter": {
    "hash": "02d4320c96f2b506d983c44735368e9e7ba4e09e09ccd765437058528c7bb7a8"
   }
  }
 },
 "nbformat": 4,
 "nbformat_minor": 2
}
