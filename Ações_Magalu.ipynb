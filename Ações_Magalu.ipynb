{
 "cells": [
  {
   "cell_type": "code",
   "execution_count": 1,
   "metadata": {},
   "outputs": [],
   "source": [
    "import pandas as pd\n",
    "import numpy as np\n",
    "import matplotlib.pyplot as plt\n",
    "import pandas_datareader.data as web"
   ]
  },
  {
   "cell_type": "code",
   "execution_count": 2,
   "metadata": {},
   "outputs": [],
   "source": [
    "import yfinance as yf\n",
    "yf.pdr_override() "
   ]
  },
  {
   "cell_type": "code",
   "execution_count": 3,
   "metadata": {},
   "outputs": [
    {
     "name": "stdout",
     "output_type": "stream",
     "text": [
      "[*********************100%***********************]  1 of 1 completed\n"
     ]
    },
    {
     "data": {
      "text/html": [
       "<div><div id=b1b2fc2e-e7b7-41ff-80b2-60ad5adf9517 style=\"display:none; background-color:#9D6CFF; color:white; width:200px; height:30px; padding-left:5px; border-radius:4px; flex-direction:row; justify-content:space-around; align-items:center;\" onmouseover=\"this.style.backgroundColor='#BA9BF8'\" onmouseout=\"this.style.backgroundColor='#9D6CFF'\" onclick=\"window.commands?.execute('create-mitosheet-from-dataframe-output');\">See Full Dataframe in Mito</div> <script> if (window.commands?.hasCommand('create-mitosheet-from-dataframe-output')) document.getElementById('b1b2fc2e-e7b7-41ff-80b2-60ad5adf9517').style.display = 'flex' </script> <table border=\"1\" class=\"dataframe\">\n",
       "  <thead>\n",
       "    <tr style=\"text-align: right;\">\n",
       "      <th></th>\n",
       "      <th>Open</th>\n",
       "      <th>High</th>\n",
       "      <th>Low</th>\n",
       "      <th>Close</th>\n",
       "      <th>Adj Close</th>\n",
       "      <th>Volume</th>\n",
       "    </tr>\n",
       "    <tr>\n",
       "      <th>Date</th>\n",
       "      <th></th>\n",
       "      <th></th>\n",
       "      <th></th>\n",
       "      <th></th>\n",
       "      <th></th>\n",
       "      <th></th>\n",
       "    </tr>\n",
       "  </thead>\n",
       "  <tbody>\n",
       "    <tr>\n",
       "      <th>1993-04-27</th>\n",
       "      <td>24.799999</td>\n",
       "      <td>25.400000</td>\n",
       "      <td>24.500000</td>\n",
       "      <td>24.500000</td>\n",
       "      <td>24.500000</td>\n",
       "      <td>0</td>\n",
       "    </tr>\n",
       "    <tr>\n",
       "      <th>1993-04-28</th>\n",
       "      <td>24.500000</td>\n",
       "      <td>24.600000</td>\n",
       "      <td>23.700001</td>\n",
       "      <td>24.299999</td>\n",
       "      <td>24.299999</td>\n",
       "      <td>0</td>\n",
       "    </tr>\n",
       "    <tr>\n",
       "      <th>1993-04-29</th>\n",
       "      <td>24.299999</td>\n",
       "      <td>24.799999</td>\n",
       "      <td>23.700001</td>\n",
       "      <td>23.700001</td>\n",
       "      <td>23.700001</td>\n",
       "      <td>0</td>\n",
       "    </tr>\n",
       "    <tr>\n",
       "      <th>1993-04-30</th>\n",
       "      <td>23.700001</td>\n",
       "      <td>24.200001</td>\n",
       "      <td>23.700001</td>\n",
       "      <td>24.100000</td>\n",
       "      <td>24.100000</td>\n",
       "      <td>0</td>\n",
       "    </tr>\n",
       "    <tr>\n",
       "      <th>1993-05-03</th>\n",
       "      <td>24.100000</td>\n",
       "      <td>24.400000</td>\n",
       "      <td>23.799999</td>\n",
       "      <td>24.100000</td>\n",
       "      <td>24.100000</td>\n",
       "      <td>0</td>\n",
       "    </tr>\n",
       "    <tr>\n",
       "      <th>...</th>\n",
       "      <td>...</td>\n",
       "      <td>...</td>\n",
       "      <td>...</td>\n",
       "      <td>...</td>\n",
       "      <td>...</td>\n",
       "      <td>...</td>\n",
       "    </tr>\n",
       "    <tr>\n",
       "      <th>2022-07-06</th>\n",
       "      <td>98294.000000</td>\n",
       "      <td>99141.000000</td>\n",
       "      <td>97423.000000</td>\n",
       "      <td>98719.000000</td>\n",
       "      <td>98719.000000</td>\n",
       "      <td>13348200</td>\n",
       "    </tr>\n",
       "    <tr>\n",
       "      <th>2022-07-07</th>\n",
       "      <td>98722.000000</td>\n",
       "      <td>101420.000000</td>\n",
       "      <td>98722.000000</td>\n",
       "      <td>100730.000000</td>\n",
       "      <td>100730.000000</td>\n",
       "      <td>12696300</td>\n",
       "    </tr>\n",
       "    <tr>\n",
       "      <th>2022-07-08</th>\n",
       "      <td>100732.000000</td>\n",
       "      <td>101577.000000</td>\n",
       "      <td>99958.000000</td>\n",
       "      <td>100289.000000</td>\n",
       "      <td>100289.000000</td>\n",
       "      <td>9730400</td>\n",
       "    </tr>\n",
       "    <tr>\n",
       "      <th>2022-07-11</th>\n",
       "      <td>100282.000000</td>\n",
       "      <td>100282.000000</td>\n",
       "      <td>97854.000000</td>\n",
       "      <td>98212.000000</td>\n",
       "      <td>98212.000000</td>\n",
       "      <td>8893400</td>\n",
       "    </tr>\n",
       "    <tr>\n",
       "      <th>2022-07-12</th>\n",
       "      <td>98212.460938</td>\n",
       "      <td>98736.562500</td>\n",
       "      <td>97253.187500</td>\n",
       "      <td>98271.210938</td>\n",
       "      <td>98271.210938</td>\n",
       "      <td>0</td>\n",
       "    </tr>\n",
       "  </tbody>\n",
       "</table></div>"
      ],
      "text/plain": [
       "                     Open           High           Low          Close  \\\n",
       "Date                                                                    \n",
       "1993-04-27      24.799999      25.400000     24.500000      24.500000   \n",
       "1993-04-28      24.500000      24.600000     23.700001      24.299999   \n",
       "1993-04-29      24.299999      24.799999     23.700001      23.700001   \n",
       "1993-04-30      23.700001      24.200001     23.700001      24.100000   \n",
       "1993-05-03      24.100000      24.400000     23.799999      24.100000   \n",
       "...                   ...            ...           ...            ...   \n",
       "2022-07-06   98294.000000   99141.000000  97423.000000   98719.000000   \n",
       "2022-07-07   98722.000000  101420.000000  98722.000000  100730.000000   \n",
       "2022-07-08  100732.000000  101577.000000  99958.000000  100289.000000   \n",
       "2022-07-11  100282.000000  100282.000000  97854.000000   98212.000000   \n",
       "2022-07-12   98212.460938   98736.562500  97253.187500   98271.210938   \n",
       "\n",
       "                Adj Close    Volume  \n",
       "Date                                 \n",
       "1993-04-27      24.500000         0  \n",
       "1993-04-28      24.299999         0  \n",
       "1993-04-29      23.700001         0  \n",
       "1993-04-30      24.100000         0  \n",
       "1993-05-03      24.100000         0  \n",
       "...                   ...       ...  \n",
       "2022-07-06   98719.000000  13348200  \n",
       "2022-07-07  100730.000000  12696300  \n",
       "2022-07-08  100289.000000   9730400  \n",
       "2022-07-11   98212.000000   8893400  \n",
       "2022-07-12   98271.210938         0  \n",
       "\n",
       "[7227 rows x 6 columns]"
      ]
     },
     "execution_count": 3,
     "metadata": {},
     "output_type": "execute_result"
    }
   ],
   "source": [
    "ibov = web.get_data_yahoo('^BVSP')\n",
    "ibov"
   ]
  },
  {
   "cell_type": "code",
   "execution_count": 4,
   "metadata": {},
   "outputs": [
    {
     "data": {
      "text/plain": [
       "<AxesSubplot:xlabel='Date'>"
      ]
     },
     "execution_count": 4,
     "metadata": {},
     "output_type": "execute_result"
    },
    {
     "data": {
      "image/png": "[encoded data removed]",
      "text/plain": [
       "<Figure size 432x288 with 1 Axes>"
      ]
     },
     "metadata": {
      "needs_background": "light"
     },
     "output_type": "display_data"
    }
   ],
   "source": [
    "ibov['Close'].plot()"
   ]
  },
  {
   "cell_type": "code",
   "execution_count": 5,
   "metadata": {},
   "outputs": [
    {
     "name": "stdout",
     "output_type": "stream",
     "text": [
      "[*********************100%***********************]  1 of 1 completed\n"
     ]
    },
    {
     "data": {
      "text/plain": [
       "<AxesSubplot:xlabel='Date'>"
      ]
     },
     "execution_count": 5,
     "metadata": {},
     "output_type": "execute_result"
    },
    {
     "data": {
      "image/png": "[encoded data removed]",
      "text/plain": [
       "<Figure size 432x288 with 1 Axes>"
      ]
     },
     "metadata": {
      "needs_background": "light"
     },
     "output_type": "display_data"
    }
   ],
   "source": [
    "# Alterar a ação a verificar\n",
    "Mag = web.get_data_yahoo('MGLU3.SA')\n",
    "Mag['Close'].plot()"
   ]
  },
  {
   "cell_type": "code",
   "execution_count": 6,
   "metadata": {},
   "outputs": [
    {
     "data": {
      "text/html": [
       "<div><div id=033a5fdb-d000-4242-8efb-e5b517693fc9 style=\"display:none; background-color:#9D6CFF; color:white; width:200px; height:30px; padding-left:5px; border-radius:4px; flex-direction:row; justify-content:space-around; align-items:center;\" onmouseover=\"this.style.backgroundColor='#BA9BF8'\" onmouseout=\"this.style.backgroundColor='#9D6CFF'\" onclick=\"window.commands?.execute('create-mitosheet-from-dataframe-output');\">See Full Dataframe in Mito</div> <script> if (window.commands?.hasCommand('create-mitosheet-from-dataframe-output')) document.getElementById('033a5fdb-d000-4242-8efb-e5b517693fc9').style.display = 'flex' </script> <table border=\"1\" class=\"dataframe\">\n",
       "  <thead>\n",
       "    <tr style=\"text-align: right;\">\n",
       "      <th></th>\n",
       "      <th>Open</th>\n",
       "      <th>High</th>\n",
       "      <th>Low</th>\n",
       "      <th>Close</th>\n",
       "      <th>Adj Close</th>\n",
       "      <th>Volume</th>\n",
       "    </tr>\n",
       "    <tr>\n",
       "      <th>Date</th>\n",
       "      <th></th>\n",
       "      <th></th>\n",
       "      <th></th>\n",
       "      <th></th>\n",
       "      <th></th>\n",
       "      <th></th>\n",
       "    </tr>\n",
       "  </thead>\n",
       "  <tbody>\n",
       "    <tr>\n",
       "      <th>2011-05-31</th>\n",
       "      <td>0.515625</td>\n",
       "      <td>0.521562</td>\n",
       "      <td>0.510937</td>\n",
       "      <td>0.515000</td>\n",
       "      <td>0.464018</td>\n",
       "      <td>280003200</td>\n",
       "    </tr>\n",
       "    <tr>\n",
       "      <th>2011-06-30</th>\n",
       "      <td>0.543750</td>\n",
       "      <td>0.555000</td>\n",
       "      <td>0.534375</td>\n",
       "      <td>0.540625</td>\n",
       "      <td>0.487106</td>\n",
       "      <td>36128000</td>\n",
       "    </tr>\n",
       "    <tr>\n",
       "      <th>2011-07-31</th>\n",
       "      <td>0.523750</td>\n",
       "      <td>0.528125</td>\n",
       "      <td>0.518750</td>\n",
       "      <td>0.524062</td>\n",
       "      <td>0.472183</td>\n",
       "      <td>40854400</td>\n",
       "    </tr>\n",
       "    <tr>\n",
       "      <th>2011-08-31</th>\n",
       "      <td>0.437500</td>\n",
       "      <td>0.445312</td>\n",
       "      <td>0.429375</td>\n",
       "      <td>0.437187</td>\n",
       "      <td>0.393908</td>\n",
       "      <td>31302400</td>\n",
       "    </tr>\n",
       "    <tr>\n",
       "      <th>2011-09-30</th>\n",
       "      <td>0.456875</td>\n",
       "      <td>0.474375</td>\n",
       "      <td>0.448125</td>\n",
       "      <td>0.459062</td>\n",
       "      <td>0.413618</td>\n",
       "      <td>47180800</td>\n",
       "    </tr>\n",
       "    <tr>\n",
       "      <th>...</th>\n",
       "      <td>...</td>\n",
       "      <td>...</td>\n",
       "      <td>...</td>\n",
       "      <td>...</td>\n",
       "      <td>...</td>\n",
       "      <td>...</td>\n",
       "    </tr>\n",
       "    <tr>\n",
       "      <th>2022-03-31</th>\n",
       "      <td>7.010000</td>\n",
       "      <td>7.130000</td>\n",
       "      <td>6.760000</td>\n",
       "      <td>7.000000</td>\n",
       "      <td>7.000000</td>\n",
       "      <td>251964700</td>\n",
       "    </tr>\n",
       "    <tr>\n",
       "      <th>2022-04-30</th>\n",
       "      <td>7.350000</td>\n",
       "      <td>7.380000</td>\n",
       "      <td>7.030000</td>\n",
       "      <td>7.350000</td>\n",
       "      <td>7.350000</td>\n",
       "      <td>143068000</td>\n",
       "    </tr>\n",
       "    <tr>\n",
       "      <th>2022-05-31</th>\n",
       "      <td>4.910000</td>\n",
       "      <td>4.970000</td>\n",
       "      <td>4.740000</td>\n",
       "      <td>4.950000</td>\n",
       "      <td>4.950000</td>\n",
       "      <td>269641700</td>\n",
       "    </tr>\n",
       "    <tr>\n",
       "      <th>2022-06-30</th>\n",
       "      <td>3.760000</td>\n",
       "      <td>3.990000</td>\n",
       "      <td>3.730000</td>\n",
       "      <td>3.800000</td>\n",
       "      <td>3.800000</td>\n",
       "      <td>232832800</td>\n",
       "    </tr>\n",
       "    <tr>\n",
       "      <th>2022-07-31</th>\n",
       "      <td>2.650000</td>\n",
       "      <td>3.030000</td>\n",
       "      <td>2.620000</td>\n",
       "      <td>2.930000</td>\n",
       "      <td>2.930000</td>\n",
       "      <td>325330800</td>\n",
       "    </tr>\n",
       "  </tbody>\n",
       "</table></div>"
      ],
      "text/plain": [
       "                Open      High       Low     Close  Adj Close     Volume\n",
       "Date                                                                    \n",
       "2011-05-31  0.515625  0.521562  0.510937  0.515000   0.464018  280003200\n",
       "2011-06-30  0.543750  0.555000  0.534375  0.540625   0.487106   36128000\n",
       "2011-07-31  0.523750  0.528125  0.518750  0.524062   0.472183   40854400\n",
       "2011-08-31  0.437500  0.445312  0.429375  0.437187   0.393908   31302400\n",
       "2011-09-30  0.456875  0.474375  0.448125  0.459062   0.413618   47180800\n",
       "...              ...       ...       ...       ...        ...        ...\n",
       "2022-03-31  7.010000  7.130000  6.760000  7.000000   7.000000  251964700\n",
       "2022-04-30  7.350000  7.380000  7.030000  7.350000   7.350000  143068000\n",
       "2022-05-31  4.910000  4.970000  4.740000  4.950000   4.950000  269641700\n",
       "2022-06-30  3.760000  3.990000  3.730000  3.800000   3.800000  232832800\n",
       "2022-07-31  2.650000  3.030000  2.620000  2.930000   2.930000  325330800\n",
       "\n",
       "[135 rows x 6 columns]"
      ]
     },
     "execution_count": 6,
     "metadata": {},
     "output_type": "execute_result"
    }
   ],
   "source": [
    "# Valores maximos por mes\n",
    "Magm = Mag.resample('M').max()\n",
    "Magm"
   ]
  },
  {
   "cell_type": "code",
   "execution_count": 7,
   "metadata": {},
   "outputs": [
    {
     "data": {
      "text/plain": [
       "<AxesSubplot:xlabel='Date'>"
      ]
     },
     "execution_count": 7,
     "metadata": {},
     "output_type": "execute_result"
    },
    {
     "data": {
      "image/png": "[encoded data removed]",
      "text/plain": [
       "<Figure size 432x288 with 1 Axes>"
      ]
     },
     "metadata": {
      "needs_background": "light"
     },
     "output_type": "display_data"
    }
   ],
   "source": [
    "Magm['Close'].plot()"
   ]
  },
  {
   "cell_type": "code",
   "execution_count": 8,
   "metadata": {},
   "outputs": [
    {
     "data": {
      "text/html": [
       "<div><div id=8ba060b7-6e22-43b4-84ad-adff4a9ce043 style=\"display:none; background-color:#9D6CFF; color:white; width:200px; height:30px; padding-left:5px; border-radius:4px; flex-direction:row; justify-content:space-around; align-items:center;\" onmouseover=\"this.style.backgroundColor='#BA9BF8'\" onmouseout=\"this.style.backgroundColor='#9D6CFF'\" onclick=\"window.commands?.execute('create-mitosheet-from-dataframe-output');\">See Full Dataframe in Mito</div> <script> if (window.commands?.hasCommand('create-mitosheet-from-dataframe-output')) document.getElementById('8ba060b7-6e22-43b4-84ad-adff4a9ce043').style.display = 'flex' </script> <table border=\"1\" class=\"dataframe\">\n",
       "  <thead>\n",
       "    <tr style=\"text-align: right;\">\n",
       "      <th></th>\n",
       "      <th>Open</th>\n",
       "      <th>High</th>\n",
       "      <th>Low</th>\n",
       "      <th>Close</th>\n",
       "      <th>Adj Close</th>\n",
       "      <th>Volume</th>\n",
       "    </tr>\n",
       "    <tr>\n",
       "      <th>Date</th>\n",
       "      <th></th>\n",
       "      <th></th>\n",
       "      <th></th>\n",
       "      <th></th>\n",
       "      <th></th>\n",
       "      <th></th>\n",
       "    </tr>\n",
       "  </thead>\n",
       "  <tbody>\n",
       "    <tr>\n",
       "      <th>2011-05-31</th>\n",
       "      <td>11.021870</td>\n",
       "      <td>11.124683</td>\n",
       "      <td>10.918121</td>\n",
       "      <td>11.046559</td>\n",
       "      <td>9.953013</td>\n",
       "      <td>630386080</td>\n",
       "    </tr>\n",
       "    <tr>\n",
       "      <th>2011-06-30</th>\n",
       "      <td>10.822808</td>\n",
       "      <td>11.002183</td>\n",
       "      <td>10.663746</td>\n",
       "      <td>10.884060</td>\n",
       "      <td>9.806601</td>\n",
       "      <td>296041600</td>\n",
       "    </tr>\n",
       "    <tr>\n",
       "      <th>2011-07-31</th>\n",
       "      <td>10.094994</td>\n",
       "      <td>10.249998</td>\n",
       "      <td>9.830619</td>\n",
       "      <td>10.017183</td>\n",
       "      <td>9.025540</td>\n",
       "      <td>293266592</td>\n",
       "    </tr>\n",
       "    <tr>\n",
       "      <th>2011-08-31</th>\n",
       "      <td>8.990619</td>\n",
       "      <td>9.250620</td>\n",
       "      <td>8.720305</td>\n",
       "      <td>9.065308</td>\n",
       "      <td>8.167895</td>\n",
       "      <td>338796800</td>\n",
       "    </tr>\n",
       "    <tr>\n",
       "      <th>2011-09-30</th>\n",
       "      <td>8.854995</td>\n",
       "      <td>9.013120</td>\n",
       "      <td>8.585308</td>\n",
       "      <td>8.817495</td>\n",
       "      <td>7.944614</td>\n",
       "      <td>424745600</td>\n",
       "    </tr>\n",
       "    <tr>\n",
       "      <th>...</th>\n",
       "      <td>...</td>\n",
       "      <td>...</td>\n",
       "      <td>...</td>\n",
       "      <td>...</td>\n",
       "      <td>...</td>\n",
       "      <td>...</td>\n",
       "    </tr>\n",
       "    <tr>\n",
       "      <th>2022-03-31</th>\n",
       "      <td>132.790001</td>\n",
       "      <td>137.690000</td>\n",
       "      <td>128.600001</td>\n",
       "      <td>133.210000</td>\n",
       "      <td>133.210000</td>\n",
       "      <td>3013036100</td>\n",
       "    </tr>\n",
       "    <tr>\n",
       "      <th>2022-04-30</th>\n",
       "      <td>115.410000</td>\n",
       "      <td>117.760001</td>\n",
       "      <td>111.480000</td>\n",
       "      <td>113.620000</td>\n",
       "      <td>113.620000</td>\n",
       "      <td>2038554200</td>\n",
       "    </tr>\n",
       "    <tr>\n",
       "      <th>2022-05-31</th>\n",
       "      <td>90.270000</td>\n",
       "      <td>92.920000</td>\n",
       "      <td>87.050000</td>\n",
       "      <td>89.610001</td>\n",
       "      <td>89.610001</td>\n",
       "      <td>2859611700</td>\n",
       "    </tr>\n",
       "    <tr>\n",
       "      <th>2022-06-30</th>\n",
       "      <td>60.450001</td>\n",
       "      <td>61.970001</td>\n",
       "      <td>58.130000</td>\n",
       "      <td>59.170000</td>\n",
       "      <td>59.170000</td>\n",
       "      <td>3351886700</td>\n",
       "    </tr>\n",
       "    <tr>\n",
       "      <th>2022-07-31</th>\n",
       "      <td>19.290000</td>\n",
       "      <td>20.610000</td>\n",
       "      <td>18.740000</td>\n",
       "      <td>19.950000</td>\n",
       "      <td>19.950000</td>\n",
       "      <td>1581336700</td>\n",
       "    </tr>\n",
       "  </tbody>\n",
       "</table></div>"
      ],
      "text/plain": [
       "                  Open        High         Low       Close   Adj Close  \\\n",
       "Date                                                                     \n",
       "2011-05-31   11.021870   11.124683   10.918121   11.046559    9.953013   \n",
       "2011-06-30   10.822808   11.002183   10.663746   10.884060    9.806601   \n",
       "2011-07-31   10.094994   10.249998    9.830619   10.017183    9.025540   \n",
       "2011-08-31    8.990619    9.250620    8.720305    9.065308    8.167895   \n",
       "2011-09-30    8.854995    9.013120    8.585308    8.817495    7.944614   \n",
       "...                ...         ...         ...         ...         ...   \n",
       "2022-03-31  132.790001  137.690000  128.600001  133.210000  133.210000   \n",
       "2022-04-30  115.410000  117.760001  111.480000  113.620000  113.620000   \n",
       "2022-05-31   90.270000   92.920000   87.050000   89.610001   89.610001   \n",
       "2022-06-30   60.450001   61.970001   58.130000   59.170000   59.170000   \n",
       "2022-07-31   19.290000   20.610000   18.740000   19.950000   19.950000   \n",
       "\n",
       "                Volume  \n",
       "Date                    \n",
       "2011-05-31   630386080  \n",
       "2011-06-30   296041600  \n",
       "2011-07-31   293266592  \n",
       "2011-08-31   338796800  \n",
       "2011-09-30   424745600  \n",
       "...                ...  \n",
       "2022-03-31  3013036100  \n",
       "2022-04-30  2038554200  \n",
       "2022-05-31  2859611700  \n",
       "2022-06-30  3351886700  \n",
       "2022-07-31  1581336700  \n",
       "\n",
       "[135 rows x 6 columns]"
      ]
     },
     "execution_count": 8,
     "metadata": {},
     "output_type": "execute_result"
    }
   ],
   "source": [
    "Mags = Mag.resample('M').sum()\n",
    "Mags"
   ]
  },
  {
   "cell_type": "code",
   "execution_count": 9,
   "metadata": {},
   "outputs": [
    {
     "data": {
      "text/plain": [
       "<AxesSubplot:xlabel='Date'>"
      ]
     },
     "execution_count": 9,
     "metadata": {},
     "output_type": "execute_result"
    },
    {
     "data": {
      "image/png": "[encoded data removed]",
      "text/plain": [
       "<Figure size 432x288 with 1 Axes>"
      ]
     },
     "metadata": {
      "needs_background": "light"
     },
     "output_type": "display_data"
    }
   ],
   "source": [
    "Mags['High'].plot()"
   ]
  }
 ],
 "metadata": {
  "kernelspec": {
   "display_name": "Python 3.9.6 64-bit",
   "language": "python",
   "name": "python3"
  },
  "language_info": {
   "codemirror_mode": {
    "name": "ipython",
    "version": 3
   },
   "file_extension": ".py",
   "mimetype": "text/x-python",
   "name": "python",
   "nbconvert_exporter": "python",
   "pygments_lexer": "ipython3",
   "version": "3.9.6"
  },
  "orig_nbformat": 4,
  "vscode": {
   "interpreter": {
    "hash": "02d4320c96f2b506d983c44735368e9e7ba4e09e09ccd765437058528c7bb7a8"
   }
  }
 },
 "nbformat": 4,
 "nbformat_minor": 2
}
