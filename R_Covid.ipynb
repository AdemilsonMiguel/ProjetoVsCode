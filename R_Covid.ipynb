{
 "cells": [
  {
   "cell_type": "markdown",
   "id": "325c5dcb",
   "metadata": {},
   "source": [
    "## Um pequeno exemplo de análise sobre a pandemia."
   ]
  },
  {
   "cell_type": "code",
   "execution_count": 1,
   "id": "51459e7e",
   "metadata": {
    "vscode": {
     "languageId": "r"
    }
   },
   "outputs": [],
   "source": [
    "library(readxl)"
   ]
  },
  {
   "cell_type": "code",
   "execution_count": 2,
   "id": "01f78456",
   "metadata": {
    "vscode": {
     "languageId": "r"
    }
   },
   "outputs": [],
   "source": [
    "#Quando utilizamos (file.choose()) abre uma 'caixa' para selecionar o arquivo.\n",
    "covid <- read_excel(file.choose())"
   ]
  },
  {
   "cell_type": "code",
   "execution_count": 3,
   "id": "6fc62512",
   "metadata": {
    "vscode": {
     "languageId": "r"
    }
   },
   "outputs": [
    {
     "data": {
      "text/html": [
       "<table class=\"dataframe\">\n",
       "<caption>A tibble: 6 × 3</caption>\n",
       "<thead>\n",
       "\t<tr><th scope=col>UF</th><th scope=col>casos</th><th scope=col>obitos</th></tr>\n",
       "\t<tr><th scope=col>&lt;chr&gt;</th><th scope=col>&lt;dbl&gt;</th><th scope=col>&lt;dbl&gt;</th></tr>\n",
       "</thead>\n",
       "<tbody>\n",
       "\t<tr><td>AC</td><td> 65959</td><td> 1190</td></tr>\n",
       "\t<tr><td>AL</td><td>147882</td><td> 3358</td></tr>\n",
       "\t<tr><td>AM</td><td>339510</td><td>11818</td></tr>\n",
       "\t<tr><td>AP</td><td> 92462</td><td> 1233</td></tr>\n",
       "\t<tr><td>BA</td><td>770430</td><td>14224</td></tr>\n",
       "\t<tr><td>CE</td><td>511019</td><td>12870</td></tr>\n",
       "</tbody>\n",
       "</table>\n"
      ],
      "text/latex": [
       "A tibble: 6 × 3\n",
       "\\begin{tabular}{lll}\n",
       " UF & casos & obitos\\\\\n",
       " <chr> & <dbl> & <dbl>\\\\\n",
       "\\hline\n",
       "\t AC &  65959 &  1190\\\\\n",
       "\t AL & 147882 &  3358\\\\\n",
       "\t AM & 339510 & 11818\\\\\n",
       "\t AP &  92462 &  1233\\\\\n",
       "\t BA & 770430 & 14224\\\\\n",
       "\t CE & 511019 & 12870\\\\\n",
       "\\end{tabular}\n"
      ],
      "text/markdown": [
       "\n",
       "A tibble: 6 × 3\n",
       "\n",
       "| UF &lt;chr&gt; | casos &lt;dbl&gt; | obitos &lt;dbl&gt; |\n",
       "|---|---|---|\n",
       "| AC |  65959 |  1190 |\n",
       "| AL | 147882 |  3358 |\n",
       "| AM | 339510 | 11818 |\n",
       "| AP |  92462 |  1233 |\n",
       "| BA | 770430 | 14224 |\n",
       "| CE | 511019 | 12870 |\n",
       "\n"
      ],
      "text/plain": [
       "  UF casos  obitos\n",
       "1 AC  65959  1190 \n",
       "2 AL 147882  3358 \n",
       "3 AM 339510 11818 \n",
       "4 AP  92462  1233 \n",
       "5 BA 770430 14224 \n",
       "6 CE 511019 12870 "
      ]
     },
     "metadata": {},
     "output_type": "display_data"
    }
   ],
   "source": [
    "head(covid)"
   ]
  },
  {
   "cell_type": "code",
   "execution_count": 4,
   "id": "6cfacb98",
   "metadata": {
    "vscode": {
     "languageId": "r"
    }
   },
   "outputs": [
    {
     "data": {
      "image/png": "[encoded data removed]",
      "text/plain": [
       "plot without title"
      ]
     },
     "metadata": {
      "image/png": {
       "height": 420,
       "width": 420
      }
     },
     "output_type": "display_data"
    }
   ],
   "source": [
    "#Gráfico mostrando a quantidade por estado.\n",
    "dotchart(covid$casos,\n",
    "        labels = covid$UF,\n",
    "        cex = 1.5,\n",
    "        col = 'steelblue4',\n",
    "        pch = 16,\n",
    "        xlab = 'Casos de Covid')"
   ]
  },
  {
   "cell_type": "code",
   "execution_count": 5,
   "id": "df7bfa1f",
   "metadata": {
    "vscode": {
     "languageId": "r"
    }
   },
   "outputs": [],
   "source": [
    "# Pizza\n",
    "pct = 100*covid$casos/sum(covid$casos) # Porcentagem"
   ]
  },
  {
   "cell_type": "code",
   "execution_count": 6,
   "id": "08cf170d",
   "metadata": {
    "vscode": {
     "languageId": "r"
    }
   },
   "outputs": [],
   "source": [
    "# Arredonda para 2 casas decimais\n",
    "pct = round(pct, 2)"
   ]
  },
  {
   "cell_type": "code",
   "execution_count": 7,
   "id": "bad9f47c",
   "metadata": {
    "vscode": {
     "languageId": "r"
    }
   },
   "outputs": [
    {
     "data": {
      "text/html": [
       "<style>\n",
       ".list-inline {list-style: none; margin:0; padding: 0}\n",
       ".list-inline>li {display: inline-block}\n",
       ".list-inline>li:not(:last-child)::after {content: \"\\00b7\"; padding: 0 .5ex}\n",
       "</style>\n",
       "<ol class=list-inline><li>0.55</li><li>1.23</li><li>2.82</li><li>0.77</li><li>6.39</li><li>4.24</li><li>2.74</li><li>3</li><li>3.78</li><li>1.95</li><li>8.59</li><li>2.4</li><li>3.32</li><li>2.05</li><li>2.75</li><li>1.61</li><li>6.63</li><li>5.17</li><li>1.46</li><li>6.58</li><li>6.37</li><li>1.38</li><li>19.17</li><li>1.68</li><li>1.55</li><li>0.73</li><li>1.1</li></ol>\n"
      ],
      "text/latex": [
       "\\begin{enumerate*}\n",
       "\\item 0.55\n",
       "\\item 1.23\n",
       "\\item 2.82\n",
       "\\item 0.77\n",
       "\\item 6.39\n",
       "\\item 4.24\n",
       "\\item 2.74\n",
       "\\item 3\n",
       "\\item 3.78\n",
       "\\item 1.95\n",
       "\\item 8.59\n",
       "\\item 2.4\n",
       "\\item 3.32\n",
       "\\item 2.05\n",
       "\\item 2.75\n",
       "\\item 1.61\n",
       "\\item 6.63\n",
       "\\item 5.17\n",
       "\\item 1.46\n",
       "\\item 6.58\n",
       "\\item 6.37\n",
       "\\item 1.38\n",
       "\\item 19.17\n",
       "\\item 1.68\n",
       "\\item 1.55\n",
       "\\item 0.73\n",
       "\\item 1.1\n",
       "\\end{enumerate*}\n"
      ],
      "text/markdown": [
       "1. 0.55\n",
       "2. 1.23\n",
       "3. 2.82\n",
       "4. 0.77\n",
       "5. 6.39\n",
       "6. 4.24\n",
       "7. 2.74\n",
       "8. 3\n",
       "9. 3.78\n",
       "10. 1.95\n",
       "11. 8.59\n",
       "12. 2.4\n",
       "13. 3.32\n",
       "14. 2.05\n",
       "15. 2.75\n",
       "16. 1.61\n",
       "17. 6.63\n",
       "18. 5.17\n",
       "19. 1.46\n",
       "20. 6.58\n",
       "21. 6.37\n",
       "22. 1.38\n",
       "23. 19.17\n",
       "24. 1.68\n",
       "25. 1.55\n",
       "26. 0.73\n",
       "27. 1.1\n",
       "\n",
       "\n"
      ],
      "text/plain": [
       " [1]  0.55  1.23  2.82  0.77  6.39  4.24  2.74  3.00  3.78  1.95  8.59  2.40\n",
       "[13]  3.32  2.05  2.75  1.61  6.63  5.17  1.46  6.58  6.37  1.38 19.17  1.68\n",
       "[25]  1.55  0.73  1.10"
      ]
     },
     "metadata": {},
     "output_type": "display_data"
    }
   ],
   "source": [
    "pct"
   ]
  },
  {
   "cell_type": "code",
   "execution_count": 8,
   "id": "f5886a61",
   "metadata": {
    "vscode": {
     "languageId": "r"
    }
   },
   "outputs": [
    {
     "data": {
      "image/png": "[encoded data removed]",
      "text/plain": [
       "Plot with title \"Percentual de Covid em cada Estado\""
      ]
     },
     "metadata": {
      "image/png": {
       "height": 420,
       "width": 420
      }
     },
     "output_type": "display_data"
    }
   ],
   "source": [
    "#Gráfico de pizza 'não' é um bom exemplo.\n",
    "pie(pct,\n",
    "    labels = paste(covid$UF, pct, '%', sep=' '),\n",
    "    radius = 1,\n",
    "    main = 'Percentual de Covid em cada Estado')"
   ]
  },
  {
   "cell_type": "code",
   "execution_count": 9,
   "id": "550ed275",
   "metadata": {
    "vscode": {
     "languageId": "r"
    }
   },
   "outputs": [
    {
     "data": {
      "text/html": [
       "<style>\n",
       ".list-inline {list-style: none; margin:0; padding: 0}\n",
       ".list-inline>li {display: inline-block}\n",
       ".list-inline>li:not(:last-child)::after {content: \"\\00b7\"; padding: 0 .5ex}\n",
       "</style>\n",
       "<ol class=list-inline><li>'0.55%'</li><li>'1.23%'</li><li>'2.82%'</li><li>'0.77%'</li><li>'6.39%'</li><li>'4.24%'</li><li>'2.74%'</li><li>'3%'</li><li>'3.78%'</li><li>'1.95%'</li><li>'8.59%'</li><li>'2.4%'</li><li>'3.32%'</li><li>'2.05%'</li><li>'2.75%'</li><li>'1.61%'</li><li>'6.63%'</li><li>'5.17%'</li><li>'1.46%'</li><li>'6.58%'</li><li>'6.37%'</li><li>'1.38%'</li><li>'19.17%'</li><li>'1.68%'</li><li>'1.55%'</li><li>'0.73%'</li><li>'1.1%'</li></ol>\n"
      ],
      "text/latex": [
       "\\begin{enumerate*}\n",
       "\\item '0.55\\%'\n",
       "\\item '1.23\\%'\n",
       "\\item '2.82\\%'\n",
       "\\item '0.77\\%'\n",
       "\\item '6.39\\%'\n",
       "\\item '4.24\\%'\n",
       "\\item '2.74\\%'\n",
       "\\item '3\\%'\n",
       "\\item '3.78\\%'\n",
       "\\item '1.95\\%'\n",
       "\\item '8.59\\%'\n",
       "\\item '2.4\\%'\n",
       "\\item '3.32\\%'\n",
       "\\item '2.05\\%'\n",
       "\\item '2.75\\%'\n",
       "\\item '1.61\\%'\n",
       "\\item '6.63\\%'\n",
       "\\item '5.17\\%'\n",
       "\\item '1.46\\%'\n",
       "\\item '6.58\\%'\n",
       "\\item '6.37\\%'\n",
       "\\item '1.38\\%'\n",
       "\\item '19.17\\%'\n",
       "\\item '1.68\\%'\n",
       "\\item '1.55\\%'\n",
       "\\item '0.73\\%'\n",
       "\\item '1.1\\%'\n",
       "\\end{enumerate*}\n"
      ],
      "text/markdown": [
       "1. '0.55%'\n",
       "2. '1.23%'\n",
       "3. '2.82%'\n",
       "4. '0.77%'\n",
       "5. '6.39%'\n",
       "6. '4.24%'\n",
       "7. '2.74%'\n",
       "8. '3%'\n",
       "9. '3.78%'\n",
       "10. '1.95%'\n",
       "11. '8.59%'\n",
       "12. '2.4%'\n",
       "13. '3.32%'\n",
       "14. '2.05%'\n",
       "15. '2.75%'\n",
       "16. '1.61%'\n",
       "17. '6.63%'\n",
       "18. '5.17%'\n",
       "19. '1.46%'\n",
       "20. '6.58%'\n",
       "21. '6.37%'\n",
       "22. '1.38%'\n",
       "23. '19.17%'\n",
       "24. '1.68%'\n",
       "25. '1.55%'\n",
       "26. '0.73%'\n",
       "27. '1.1%'\n",
       "\n",
       "\n"
      ],
      "text/plain": [
       " [1] \"0.55%\"  \"1.23%\"  \"2.82%\"  \"0.77%\"  \"6.39%\"  \"4.24%\"  \"2.74%\"  \"3%\"    \n",
       " [9] \"3.78%\"  \"1.95%\"  \"8.59%\"  \"2.4%\"   \"3.32%\"  \"2.05%\"  \"2.75%\"  \"1.61%\" \n",
       "[17] \"6.63%\"  \"5.17%\"  \"1.46%\"  \"6.58%\"  \"6.37%\"  \"1.38%\"  \"19.17%\" \"1.68%\" \n",
       "[25] \"1.55%\"  \"0.73%\"  \"1.1%\"  "
      ]
     },
     "metadata": {},
     "output_type": "display_data"
    }
   ],
   "source": [
    "# Concatena 2 objetos\n",
    "paste(pct, '%', sep='')"
   ]
  },
  {
   "cell_type": "code",
   "execution_count": 10,
   "id": "ed9d764a",
   "metadata": {
    "vscode": {
     "languageId": "r"
    }
   },
   "outputs": [
    {
     "data": {
      "image/png": "[encoded data removed]",
      "text/plain": [
       "Plot with title \"Casos de Covid no Brasil\""
      ]
     },
     "metadata": {
      "image/png": {
       "height": 420,
       "width": 420
      }
     },
     "output_type": "display_data"
    }
   ],
   "source": [
    "# Gráfico Boxplot mostra o Outlier - estado de SP.\n",
    "boxplot(covid$casos,\n",
    "        col = 'lightgreen',\n",
    "        main = 'Casos de Covid no Brasil')"
   ]
  },
  {
   "cell_type": "code",
   "execution_count": null,
   "id": "47a81cb4",
   "metadata": {},
   "outputs": [],
   "source": []
  }
 ],
 "metadata": {
  "kernelspec": {
   "display_name": "R",
   "language": "R",
   "name": "ir"
  },
  "language_info": {
   "codemirror_mode": "r",
   "file_extension": ".r",
   "mimetype": "text/x-r-source",
   "name": "R",
   "pygments_lexer": "r",
   "version": "4.1.1"
  },
  "varInspector": {
   "cols": {
    "lenName": 16,
    "lenType": 16,
    "lenVar": 40
   },
   "kernels_config": {
    "python": {
     "delete_cmd_postfix": "",
     "delete_cmd_prefix": "del ",
     "library": "var_list.py",
     "varRefreshCmd": "print(var_dic_list())"
    },
    "r": {
     "delete_cmd_postfix": ") ",
     "delete_cmd_prefix": "rm(",
     "library": "var_list.r",
     "varRefreshCmd": "cat(var_dic_list()) "
    }
   },
   "types_to_exclude": [
    "module",
    "function",
    "builtin_function_or_method",
    "instance",
    "_Feature"
   ],
   "window_display": false
  }
 },
 "nbformat": 4,
 "nbformat_minor": 5
}
